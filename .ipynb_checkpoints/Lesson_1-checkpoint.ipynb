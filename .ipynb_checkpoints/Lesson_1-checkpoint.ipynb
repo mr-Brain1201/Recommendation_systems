{
 "cells": [
  {
   "cell_type": "markdown",
   "metadata": {},
   "source": [
    "## ДЗ 1 урока"
   ]
  },
  {
   "cell_type": "code",
   "execution_count": 1,
   "metadata": {
    "id": "_pWvCiiDdjr_"
   },
   "outputs": [],
   "source": [
    "import  numpy  as  np \n",
    "import  pandas  as  pd \n",
    "import  math"
   ]
  },
  {
   "cell_type": "markdown",
   "metadata": {
    "id": "XXtU4GFqdn3G"
   },
   "source": [
    "## HR@K"
   ]
  },
  {
   "cell_type": "code",
   "execution_count": 2,
   "metadata": {
    "id": "MwcAl3w3dm-w"
   },
   "outputs": [],
   "source": [
    "def hit_rate(recommended_list, bought_list):\n",
    "    \n",
    "    bought_list = np.array(bought_list)\n",
    "    recommended_list = np.array(recommended_list)\n",
    "    \n",
    "    flags = np.isin(bought_list, recommended_list)\n",
    "    \n",
    "    hit_rate = (flags.sum() > 0) * 1\n",
    "    \n",
    "    return hit_rate\n",
    "\n",
    "\n",
    "#\n",
    "def hit_rate_at_k(recommended_list, bought_list, k=5):\n",
    "    return hit_rate(recommended_list[:k], bought_list)"
   ]
  },
  {
   "cell_type": "code",
   "execution_count": 6,
   "metadata": {
    "id": "xEck0b3EeWCz"
   },
   "outputs": [],
   "source": [
    "recommended_list = [143, 523, 1134, 991, 27, 1543, 3345, 533, 11, 43] #id товаров\n",
    "bought_list = [143, 523, 1134, 991]"
   ]
  },
  {
   "cell_type": "code",
   "execution_count": 7,
   "metadata": {
    "colab": {
     "base_uri": "https://localhost:8080/"
    },
    "id": "Mzw-ZKndeqrW",
    "outputId": "94a28725-61fb-4167-ebe2-54fd33919d4e"
   },
   "outputs": [
    {
     "data": {
      "text/plain": [
       "1"
      ]
     },
     "execution_count": 7,
     "metadata": {},
     "output_type": "execute_result"
    }
   ],
   "source": [
    "hit_rate_at_k(recommended_list, bought_list, 5)"
   ]
  },
  {
   "cell_type": "code",
   "execution_count": 8,
   "metadata": {
    "colab": {
     "base_uri": "https://localhost:8080/"
    },
    "id": "a5M85f-ffGhO",
    "outputId": "79b59344-0f3b-4000-960f-8480a029fe8d"
   },
   "outputs": [
    {
     "data": {
      "text/plain": [
       "1"
      ]
     },
     "execution_count": 8,
     "metadata": {},
     "output_type": "execute_result"
    }
   ],
   "source": [
    "hit_rate_at_k(recommended_list, bought_list, 10)"
   ]
  },
  {
   "cell_type": "markdown",
   "metadata": {
    "id": "h_d4yXPCgS67"
   },
   "source": [
    "## Precision@K"
   ]
  },
  {
   "cell_type": "markdown",
   "metadata": {
    "id": "A3QxPFvUgcHC"
   },
   "source": [
    "- Precision = (# of recommended items that are relevant) / (# of recommended items)\n",
    "- Precision @ k = (# of recommended items @k that are relevant) / (# of recommended items @k)\n",
    "- Money Precision @ k = (revenue of recommended items @k that are relevant) / (revenue of recommended items @k)"
   ]
  },
  {
   "cell_type": "code",
   "execution_count": 9,
   "metadata": {
    "id": "gtweDIeDgZWw"
   },
   "outputs": [],
   "source": [
    "def precision_at_k(recommended_list, bought_list, k=5):\n",
    "    \n",
    "    bought_list = np.array(bought_list)\n",
    "    recommended_list = np.array(recommended_list)[:k]\n",
    "\n",
    "    flags = np.isin(bought_list, recommended_list)\n",
    "    return flags.sum() / len(recommended_list)"
   ]
  },
  {
   "cell_type": "code",
   "execution_count": 10,
   "metadata": {
    "id": "2KWbIvmsglul"
   },
   "outputs": [],
   "source": [
    "def money_precision_at_k(recommended_list, bought_list, prices_recommended, k=5):\n",
    "    \n",
    "    recommend_list = np.array(recommended_list)[:k] \n",
    "    prices_recommended = np.array(prices_recommended)[:k]\n",
    "    flags = np.isin(recommend_list, bought_list)\n",
    "    precision = np.dot(flags, prices_recommended) / prices_recommended.sum()\n",
    "    return precision"
   ]
  },
  {
   "cell_type": "code",
   "execution_count": 28,
   "metadata": {
    "id": "w1IHDZ8dkZqk"
   },
   "outputs": [],
   "source": [
    "recommended_list = [143, 523, 1134, 991, 27, 1543, 3345, 533, 11, 43] #id товаров\n",
    "bought_list = [143, 52, 1134, 91]\n",
    "prices_recommended_list = [352, 271, 347,  88,  54, 266, 179, 166, 195, 203]"
   ]
  },
  {
   "cell_type": "code",
   "execution_count": 29,
   "metadata": {
    "colab": {
     "base_uri": "https://localhost:8080/"
    },
    "id": "ISqhoHgwksM6",
    "outputId": "2a6b2232-a4d9-4436-f038-b026c7bdd9d0"
   },
   "outputs": [
    {
     "data": {
      "text/plain": [
       "0.6666666666666666"
      ]
     },
     "execution_count": 29,
     "metadata": {},
     "output_type": "execute_result"
    }
   ],
   "source": [
    "precision_at_k(recommended_list, bought_list, 3)"
   ]
  },
  {
   "cell_type": "code",
   "execution_count": 30,
   "metadata": {
    "colab": {
     "base_uri": "https://localhost:8080/"
    },
    "id": "6ukYqJRHkxGO",
    "outputId": "14f26a85-6e9e-4269-f3ee-5f154ffdb34c"
   },
   "outputs": [
    {
     "data": {
      "text/plain": [
       "0.3333333333333333"
      ]
     },
     "execution_count": 30,
     "metadata": {},
     "output_type": "execute_result"
    }
   ],
   "source": [
    "precision_at_k(recommended_list, bought_list, 6)"
   ]
  },
  {
   "cell_type": "code",
   "execution_count": 31,
   "metadata": {
    "colab": {
     "base_uri": "https://localhost:8080/"
    },
    "id": "gPi_uXyElLqD",
    "outputId": "5cbeaee4-522e-4c34-e6f4-17b775348678"
   },
   "outputs": [
    {
     "data": {
      "text/plain": [
       "0.7206185567010309"
      ]
     },
     "execution_count": 31,
     "metadata": {},
     "output_type": "execute_result"
    }
   ],
   "source": [
    "money_precision_at_k(recommended_list, bought_list, prices_recommended_list, 3)"
   ]
  },
  {
   "cell_type": "code",
   "execution_count": 32,
   "metadata": {
    "colab": {
     "base_uri": "https://localhost:8080/"
    },
    "id": "ee_aWCJhlLmz",
    "outputId": "b2e73f90-577e-48ae-8d19-b22dfcd39bd3"
   },
   "outputs": [
    {
     "data": {
      "text/plain": [
       "0.5072568940493469"
      ]
     },
     "execution_count": 32,
     "metadata": {},
     "output_type": "execute_result"
    }
   ],
   "source": [
    "money_precision_at_k(recommended_list, bought_list, prices_recommended_list, 6)"
   ]
  },
  {
   "cell_type": "markdown",
   "metadata": {
    "id": "34bVpwgslYcp"
   },
   "source": [
    "## Recall@K"
   ]
  },
  {
   "cell_type": "markdown",
   "metadata": {
    "id": "7MStCbMXlbiI"
   },
   "source": [
    "- Recall = (# of recommended items that are relevant) / (# of relevant items)\n",
    "- Recall @ k = (# of recommended items @k that are relevant) / (# of relevant items)\n",
    "- Money Recall @ k = (revenue of recommended items @k that are relevant) / (revenue of relevant items)"
   ]
  },
  {
   "cell_type": "code",
   "execution_count": 49,
   "metadata": {
    "id": "a8KPrGjllaWA"
   },
   "outputs": [],
   "source": [
    "recommended_list = [143, 523, 991, 1134, 27, 1543, 3345, 533, 11, 43] #itemsid\n",
    "\n",
    "bought_list = [91, 143, 52, 1134]\n",
    "prices_bought=[134, 352, 230, 347]"
   ]
  },
  {
   "cell_type": "code",
   "execution_count": 41,
   "metadata": {
    "id": "Ni6hjugKlkkM"
   },
   "outputs": [],
   "source": [
    "def recall_at_k(recommended_list, bought_list, k=5):\n",
    "    bought_list = np.array(bought_list)\n",
    "    recommended_list = np.array(recommended_list)[:k]\n",
    "\n",
    "    flags = np.isin(bought_list, recommended_list)\n",
    "    return flags.sum() / len(bought_list)"
   ]
  },
  {
   "cell_type": "code",
   "execution_count": 35,
   "metadata": {
    "id": "ZlrS7hZPloF9"
   },
   "outputs": [],
   "source": [
    "def money_recall_at_k(recommended_list, bought_list, prices_recommended, prices_bought, k=5):\n",
    "    bought_list = np.array(bought_list)\n",
    "    prices_bought = np.array(prices_bought)\n",
    "    recommended_list = np.array(recommended_list)[:k]\n",
    "    prices_recommended = np.array(prices_recommended)[:k]\n",
    "\n",
    "    flags = np.isin(recommended_list, bought_list)\n",
    "    return np.dot(flags, prices_recommended)/prices_bought.sum()"
   ]
  },
  {
   "cell_type": "code",
   "execution_count": 50,
   "metadata": {
    "colab": {
     "base_uri": "https://localhost:8080/"
    },
    "id": "f5fepPoqmP2l",
    "outputId": "65d4ae56-af27-4e86-9bc6-935ddccec26a"
   },
   "outputs": [
    {
     "data": {
      "text/plain": [
       "0.25"
      ]
     },
     "execution_count": 50,
     "metadata": {},
     "output_type": "execute_result"
    }
   ],
   "source": [
    "recall_at_k(recommended_list, bought_list, 3)"
   ]
  },
  {
   "cell_type": "code",
   "execution_count": 51,
   "metadata": {
    "colab": {
     "base_uri": "https://localhost:8080/"
    },
    "id": "eiVBQBvfmP2m",
    "outputId": "72056673-b92f-44c3-e8ee-d275cec7d247"
   },
   "outputs": [
    {
     "data": {
      "text/plain": [
       "0.5"
      ]
     },
     "execution_count": 51,
     "metadata": {},
     "output_type": "execute_result"
    }
   ],
   "source": [
    "recall_at_k(recommended_list, bought_list, 6)"
   ]
  },
  {
   "cell_type": "code",
   "execution_count": 52,
   "metadata": {
    "colab": {
     "base_uri": "https://localhost:8080/"
    },
    "id": "8eYgatL-mP2n",
    "outputId": "f02d8b2c-aa74-4c91-f7f7-67a8797ce183"
   },
   "outputs": [
    {
     "data": {
      "text/plain": [
       "95.2"
      ]
     },
     "execution_count": 52,
     "metadata": {},
     "output_type": "execute_result"
    }
   ],
   "source": [
    "money_recall_at_k(recommended_list, bought_list, prices_recommendede_list, 5)"
   ]
  },
  {
   "cell_type": "code",
   "execution_count": 53,
   "metadata": {
    "colab": {
     "base_uri": "https://localhost:8080/"
    },
    "id": "y-x5T3HOmP2o",
    "outputId": "d294c3be-32ae-408e-c997-ae4ff6f22dfc"
   },
   "outputs": [
    {
     "data": {
      "text/plain": [
       "47.6"
      ]
     },
     "execution_count": 53,
     "metadata": {},
     "output_type": "execute_result"
    }
   ],
   "source": [
    "money_recall_at_k(recommended_list, bought_list, prices_recommendede_list, 10)"
   ]
  },
  {
   "cell_type": "markdown",
   "metadata": {
    "id": "FsR6hHRembdu"
   },
   "source": [
    "## MAP@K\n",
    "- MAP @ k (Mean Average Precision @ k )\n",
    "- Average AP @ k for all users"
   ]
  },
  {
   "cell_type": "code",
   "execution_count": 54,
   "metadata": {
    "id": "g1C1deyvmhba"
   },
   "outputs": [],
   "source": [
    "def ap_k(recommended_list, bought_list, k=5):\n",
    "    \n",
    "    bought_list = np.array(bought_list)\n",
    "    recommended_list = np.array(recommended_list)[:k]\n",
    "    \n",
    "    relevant_indexes = np.nonzero(np.isin(recommended_list, bought_list))[0]\n",
    "    if len(relevant_indexes) == 0:\n",
    "        return 0\n",
    "    \n",
    "    amount_relevant = len(relevant_indexes)\n",
    "            \n",
    "    sum_ = sum([precision_at_k(recommended_list, bought_list, k=index_relevant+1) for index_relevant in relevant_indexes])\n",
    "    return sum_/amount_relevant"
   ]
  },
  {
   "cell_type": "code",
   "execution_count": 55,
   "metadata": {
    "id": "x6m00Jc3mjWF"
   },
   "outputs": [],
   "source": [
    "def map_k(recommended_list, bought_list, k=5):\n",
    "\n",
    "    amount_user = len(bought_list)\n",
    "    list_ap_k = [ap_k(recommended_list[i], bought_list[i], k) for i in np.arange(amount_user)]\n",
    "    \n",
    "    sum_ap_k = sum(list_ap_k)  \n",
    "    return sum_ap_k/amount_user"
   ]
  },
  {
   "cell_type": "code",
   "execution_count": 56,
   "metadata": {
    "id": "x8GehNJDmpKA"
   },
   "outputs": [],
   "source": [
    "#list of 3 users\n",
    "recommended_list_3_users = [[143,156,1134,991,27,1543,3345,533,11,43],\n",
    "                            [1134,533,14,4,15,1543,1,99,27,3345],\n",
    "                            [991,3345,27,533,43,143,1543,156,1134,11]]\n",
    "\n",
    "bought_list_3_users= [[521,32,143], #user1\n",
    "                      [143,156,991,43,11], #user2\n",
    "                      [1,2]] #user3"
   ]
  },
  {
   "cell_type": "code",
   "execution_count": 57,
   "metadata": {
    "colab": {
     "base_uri": "https://localhost:8080/"
    },
    "id": "UnHTv6kvm0LX",
    "outputId": "0dd9f665-5a8e-4bbb-9580-8b04619df0fd"
   },
   "outputs": [
    {
     "data": {
      "text/plain": [
       "0.3333333333333333"
      ]
     },
     "execution_count": 57,
     "metadata": {},
     "output_type": "execute_result"
    }
   ],
   "source": [
    "map_k(recommended_list_3_users, bought_list_3_users, 5)"
   ]
  },
  {
   "cell_type": "markdown",
   "metadata": {
    "id": "OFt1EYJjm-6T"
   },
   "source": [
    "## MRR@K"
   ]
  },
  {
   "cell_type": "code",
   "execution_count": 58,
   "metadata": {
    "id": "JoOHG0rvnAUJ"
   },
   "outputs": [],
   "source": [
    "def reciprocal_rank(recommended_list, bought_list, k=1):\n",
    "    recommended_list = np.array(recommended_list)\n",
    "    bought_list = np.array(bought_list)\n",
    "    \n",
    "    amount_user = len(bought_list)\n",
    "    rr = []\n",
    "    for i in np.arange(amount_user):    \n",
    "        relevant_indexes = np.nonzero(np.isin(recommended_list[i][:k], bought_list[i]))[0]\n",
    "        if len(relevant_indexes) != 0:\n",
    "            rr.append(1/(relevant_indexes[0]+1))\n",
    "    \n",
    "    if len(rr) == 0:\n",
    "        return 0\n",
    "    \n",
    "    return sum(rr)/amount_user"
   ]
  },
  {
   "cell_type": "code",
   "execution_count": 59,
   "metadata": {
    "colab": {
     "base_uri": "https://localhost:8080/"
    },
    "id": "hVhEiJ3NnGX_",
    "outputId": "e6901d23-e342-47e5-96d1-db0c5b57a3af"
   },
   "outputs": [
    {
     "data": {
      "text/plain": [
       "0.3333333333333333"
      ]
     },
     "execution_count": 59,
     "metadata": {},
     "output_type": "execute_result"
    }
   ],
   "source": [
    "reciprocal_rank(recommended_list_3_users, bought_list_3_users, 5)"
   ]
  }
 ],
 "metadata": {
  "colab": {
   "collapsed_sections": [],
   "name": "Копия блокнота \"recsys-evaluation-metrics-part-2.ipynb\"",
   "provenance": [
    {
     "file_id": "https://github.com/recohut/notebooks/blob/master/_notebooks/2021-07-07-recsys-evaluation-metrics-part-2.ipynb",
     "timestamp": 1637863344528
    }
   ]
  },
  "kernelspec": {
   "display_name": "Python 3",
   "language": "python",
   "name": "python3"
  },
  "language_info": {
   "codemirror_mode": {
    "name": "ipython",
    "version": 3
   },
   "file_extension": ".py",
   "mimetype": "text/x-python",
   "name": "python",
   "nbconvert_exporter": "python",
   "pygments_lexer": "ipython3",
   "version": "3.8.8"
  }
 },
 "nbformat": 4,
 "nbformat_minor": 1
}
